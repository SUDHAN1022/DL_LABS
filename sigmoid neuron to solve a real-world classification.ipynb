{
  "nbformat": 4,
  "nbformat_minor": 0,
  "metadata": {
    "colab": {
      "provenance": [],
      "collapsed_sections": []
    },
    "kernelspec": {
      "name": "python3",
      "display_name": "Python 3"
    },
    "language_info": {
      "name": "python"
    }
  },
  "cells": [
    {
      "cell_type": "code",
      "source": [
        "import numpy as np\n",
        "from sklearn import datasets\n",
        "from sklearn.model_selection import train_test_split\n",
        "import tensorflow as tf\n",
        "from tensorflow.keras.utils import to_categorical"
      ],
      "metadata": {
        "id": "OrUSAm5JJkZa"
      },
      "execution_count": 3,
      "outputs": []
    },
    {
      "cell_type": "code",
      "source": [
        "iris = datasets.load_iris()\n",
        "X = iris.data\n",
        "y = iris.target\n",
        "#\n",
        "# Create training and test split\n",
        "#\n",
        "X_train, X_test, y_train, y_test = train_test_split(X, y, test_size=0.3, stratify=y, random_state=42)\n",
        "train_labels = to_categorical(y_train)\n",
        "test_labels = to_categorical(y_test)"
      ],
      "metadata": {
        "id": "XLSiiJOfG2Ww"
      },
      "execution_count": 4,
      "outputs": []
    },
    {
      "cell_type": "code",
      "source": [
        "model=tf.keras.models.Sequential([\n",
        "    tf.keras.layers.Dense(512,activation='sigmoid',input_shape=(4,)),\n",
        "    tf.keras.layers.Dense(128,activation='sigmoid'),\n",
        "    tf.keras.layers.Dense(32,activation='sigmoid'),\n",
        "    tf.keras.layers.Dense(3,activation='softmax')\n",
        "])"
      ],
      "metadata": {
        "id": "Q7xGLEvJGzgu"
      },
      "execution_count": 5,
      "outputs": []
    },
    {
      "cell_type": "code",
      "source": [
        "model.compile(optimizer='adam',loss='categorical_crossentropy',metrics=['accuracy'])"
      ],
      "metadata": {
        "id": "c_dkc3IBHCUH"
      },
      "execution_count": 8,
      "outputs": []
    },
    {
      "cell_type": "code",
      "source": [
        "model.fit(X_train,train_labels,epochs=50,batch_size=40)"
      ],
      "metadata": {
        "colab": {
          "base_uri": "https://localhost:8080/"
        },
        "id": "xLplzm_6G5mh",
        "outputId": "aa28fa8f-bf1d-4072-b273-d94034a76d90"
      },
      "execution_count": 9,
      "outputs": [
        {
          "output_type": "stream",
          "name": "stdout",
          "text": [
            "Epoch 1/50\n",
            "3/3 [==============================] - 1s 7ms/step - loss: 1.1088 - accuracy: 0.3333\n",
            "Epoch 2/50\n",
            "3/3 [==============================] - 0s 6ms/step - loss: 1.0988 - accuracy: 0.2952\n",
            "Epoch 3/50\n",
            "3/3 [==============================] - 0s 10ms/step - loss: 1.0892 - accuracy: 0.3333\n",
            "Epoch 4/50\n",
            "3/3 [==============================] - 0s 7ms/step - loss: 1.0728 - accuracy: 0.3905\n",
            "Epoch 5/50\n",
            "3/3 [==============================] - 0s 7ms/step - loss: 1.0669 - accuracy: 0.3333\n",
            "Epoch 6/50\n",
            "3/3 [==============================] - 0s 6ms/step - loss: 1.0651 - accuracy: 0.6667\n",
            "Epoch 7/50\n",
            "3/3 [==============================] - 0s 6ms/step - loss: 1.0498 - accuracy: 0.6571\n",
            "Epoch 8/50\n",
            "3/3 [==============================] - 0s 7ms/step - loss: 1.0333 - accuracy: 0.6667\n",
            "Epoch 9/50\n",
            "3/3 [==============================] - 0s 6ms/step - loss: 1.0203 - accuracy: 0.6095\n",
            "Epoch 10/50\n",
            "3/3 [==============================] - 0s 8ms/step - loss: 1.0082 - accuracy: 0.6667\n",
            "Epoch 11/50\n",
            "3/3 [==============================] - 0s 7ms/step - loss: 0.9877 - accuracy: 0.6667\n",
            "Epoch 12/50\n",
            "3/3 [==============================] - 0s 7ms/step - loss: 0.9645 - accuracy: 0.6667\n",
            "Epoch 13/50\n",
            "3/3 [==============================] - 0s 7ms/step - loss: 0.9464 - accuracy: 0.7238\n",
            "Epoch 14/50\n",
            "3/3 [==============================] - 0s 6ms/step - loss: 0.9205 - accuracy: 0.6667\n",
            "Epoch 15/50\n",
            "3/3 [==============================] - 0s 6ms/step - loss: 0.8933 - accuracy: 0.6667\n",
            "Epoch 16/50\n",
            "3/3 [==============================] - 0s 8ms/step - loss: 0.8641 - accuracy: 0.6667\n",
            "Epoch 17/50\n",
            "3/3 [==============================] - 0s 7ms/step - loss: 0.8322 - accuracy: 0.6667\n",
            "Epoch 18/50\n",
            "3/3 [==============================] - 0s 7ms/step - loss: 0.7992 - accuracy: 0.8190\n",
            "Epoch 19/50\n",
            "3/3 [==============================] - 0s 6ms/step - loss: 0.7649 - accuracy: 0.8571\n",
            "Epoch 20/50\n",
            "3/3 [==============================] - 0s 6ms/step - loss: 0.7296 - accuracy: 0.9524\n",
            "Epoch 21/50\n",
            "3/3 [==============================] - 0s 6ms/step - loss: 0.6977 - accuracy: 0.9048\n",
            "Epoch 22/50\n",
            "3/3 [==============================] - 0s 6ms/step - loss: 0.6619 - accuracy: 0.8000\n",
            "Epoch 23/50\n",
            "3/3 [==============================] - 0s 6ms/step - loss: 0.6297 - accuracy: 0.7810\n",
            "Epoch 24/50\n",
            "3/3 [==============================] - 0s 6ms/step - loss: 0.6042 - accuracy: 0.8762\n",
            "Epoch 25/50\n",
            "3/3 [==============================] - 0s 8ms/step - loss: 0.5773 - accuracy: 0.9333\n",
            "Epoch 26/50\n",
            "3/3 [==============================] - 0s 7ms/step - loss: 0.5549 - accuracy: 0.9429\n",
            "Epoch 27/50\n",
            "3/3 [==============================] - 0s 7ms/step - loss: 0.5322 - accuracy: 0.9048\n",
            "Epoch 28/50\n",
            "3/3 [==============================] - 0s 6ms/step - loss: 0.5170 - accuracy: 0.8762\n",
            "Epoch 29/50\n",
            "3/3 [==============================] - 0s 7ms/step - loss: 0.4970 - accuracy: 0.9048\n",
            "Epoch 30/50\n",
            "3/3 [==============================] - 0s 6ms/step - loss: 0.4862 - accuracy: 0.9619\n",
            "Epoch 31/50\n",
            "3/3 [==============================] - 0s 7ms/step - loss: 0.4720 - accuracy: 0.9333\n",
            "Epoch 32/50\n",
            "3/3 [==============================] - 0s 6ms/step - loss: 0.4570 - accuracy: 0.9048\n",
            "Epoch 33/50\n",
            "3/3 [==============================] - 0s 6ms/step - loss: 0.4426 - accuracy: 0.9238\n",
            "Epoch 34/50\n",
            "3/3 [==============================] - 0s 6ms/step - loss: 0.4326 - accuracy: 0.9714\n",
            "Epoch 35/50\n",
            "3/3 [==============================] - 0s 10ms/step - loss: 0.4192 - accuracy: 0.9810\n",
            "Epoch 36/50\n",
            "3/3 [==============================] - 0s 7ms/step - loss: 0.4086 - accuracy: 0.9429\n",
            "Epoch 37/50\n",
            "3/3 [==============================] - 0s 7ms/step - loss: 0.3993 - accuracy: 0.9143\n",
            "Epoch 38/50\n",
            "3/3 [==============================] - 0s 7ms/step - loss: 0.3884 - accuracy: 0.9143\n",
            "Epoch 39/50\n",
            "3/3 [==============================] - 0s 6ms/step - loss: 0.3784 - accuracy: 0.9524\n",
            "Epoch 40/50\n",
            "3/3 [==============================] - 0s 7ms/step - loss: 0.3685 - accuracy: 0.9810\n",
            "Epoch 41/50\n",
            "3/3 [==============================] - 0s 7ms/step - loss: 0.3572 - accuracy: 0.9524\n",
            "Epoch 42/50\n",
            "3/3 [==============================] - 0s 7ms/step - loss: 0.3485 - accuracy: 0.9429\n",
            "Epoch 43/50\n",
            "3/3 [==============================] - 0s 6ms/step - loss: 0.3373 - accuracy: 0.9714\n",
            "Epoch 44/50\n",
            "3/3 [==============================] - 0s 7ms/step - loss: 0.3288 - accuracy: 0.9810\n",
            "Epoch 45/50\n",
            "3/3 [==============================] - 0s 6ms/step - loss: 0.3195 - accuracy: 0.9714\n",
            "Epoch 46/50\n",
            "3/3 [==============================] - 0s 9ms/step - loss: 0.3093 - accuracy: 0.9714\n",
            "Epoch 47/50\n",
            "3/3 [==============================] - 0s 7ms/step - loss: 0.3007 - accuracy: 0.9810\n",
            "Epoch 48/50\n",
            "3/3 [==============================] - 0s 6ms/step - loss: 0.2945 - accuracy: 0.9810\n",
            "Epoch 49/50\n",
            "3/3 [==============================] - 0s 7ms/step - loss: 0.2839 - accuracy: 0.9714\n",
            "Epoch 50/50\n",
            "3/3 [==============================] - 0s 6ms/step - loss: 0.2750 - accuracy: 0.9810\n"
          ]
        },
        {
          "output_type": "execute_result",
          "data": {
            "text/plain": [
              "<keras.callbacks.History at 0x7f8b48086b10>"
            ]
          },
          "metadata": {},
          "execution_count": 9
        }
      ]
    },
    {
      "cell_type": "code",
      "source": [
        "loss,accuracy=model.evaluate(X_test,test_labels)"
      ],
      "metadata": {
        "colab": {
          "base_uri": "https://localhost:8080/"
        },
        "id": "T_B_qX5DG7fI",
        "outputId": "7afd8f7e-e982-4161-c122-fcd0d2b86558"
      },
      "execution_count": 10,
      "outputs": [
        {
          "output_type": "stream",
          "name": "stdout",
          "text": [
            "2/2 [==============================] - 0s 9ms/step - loss: 0.3055 - accuracy: 0.9333\n"
          ]
        }
      ]
    },
    {
      "cell_type": "code",
      "source": [
        "y_predict=model.predict(X_test)"
      ],
      "metadata": {
        "colab": {
          "base_uri": "https://localhost:8080/"
        },
        "id": "fGSBo2njG8-9",
        "outputId": "0f9e4dca-2894-406d-a151-26138aecbae4"
      },
      "execution_count": 11,
      "outputs": [
        {
          "output_type": "stream",
          "name": "stdout",
          "text": [
            "2/2 [==============================] - 0s 7ms/step\n"
          ]
        }
      ]
    }
  ]
}