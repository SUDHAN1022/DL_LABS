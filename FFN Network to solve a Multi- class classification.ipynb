{
  "nbformat": 4,
  "nbformat_minor": 0,
  "metadata": {
    "colab": {
      "provenance": [],
      "collapsed_sections": []
    },
    "kernelspec": {
      "name": "python3",
      "display_name": "Python 3"
    },
    "language_info": {
      "name": "python"
    },
    "accelerator": "GPU",
    "gpuClass": "standard"
  },
  "cells": [
    {
      "cell_type": "code",
      "source": [
        "import numpy as np\n",
        "from sklearn import datasets\n",
        "from sklearn.model_selection import train_test_split\n",
        "import tensorflow as tf\n",
        "from tensorflow.keras.utils import to_categorical\n",
        "from tensorflow.keras.models import Sequential\n",
        "from tensorflow.keras.layers import Dense,Flatten,Activation,Dropout"
      ],
      "metadata": {
        "id": "ENk_R9toH1RI"
      },
      "execution_count": 1,
      "outputs": []
    },
    {
      "cell_type": "code",
      "source": [
        "iris = datasets.load_iris()\n",
        "X = iris.data\n",
        "y = iris.target\n",
        "#\n",
        "# Create training and test split\n",
        "#\n",
        "X_train, X_test, y_train, y_test = train_test_split(X, y, test_size=0.3, stratify=y, random_state=42)\n",
        "train_labels = to_categorical(y_train)\n",
        "test_labels = to_categorical(y_test)"
      ],
      "metadata": {
        "id": "i1vQLQGXH6Po"
      },
      "execution_count": 2,
      "outputs": []
    },
    {
      "cell_type": "code",
      "source": [
        "model3=Sequential([\n",
        "    Dense(512,activation='relu',input_shape=X_train.shape[1:]),\n",
        "    tf.keras.layers.BatchNormalization(),\n",
        "    Dense(128,activation='relu'),\n",
        "    tf.keras.layers.BatchNormalization(),\n",
        "    Dense(32,activation='relu'),\n",
        "    Dense(3,activation='softmax')\n",
        "])"
      ],
      "metadata": {
        "id": "Joto7_t1H80_"
      },
      "execution_count": 3,
      "outputs": []
    },
    {
      "cell_type": "code",
      "source": [
        "model3.compile(optimizer='adam',loss='categorical_crossentropy',metrics=['accuracy'])"
      ],
      "metadata": {
        "id": "tW8PtNxaH-nl"
      },
      "execution_count": 4,
      "outputs": []
    },
    {
      "cell_type": "code",
      "source": [
        "model3.fit(X_train,train_labels,epochs=50,batch_size=40)"
      ],
      "metadata": {
        "colab": {
          "base_uri": "https://localhost:8080/"
        },
        "id": "CuuGafWkIAQl",
        "outputId": "e67eff74-40db-4308-bb6f-06f20debdd9b"
      },
      "execution_count": 5,
      "outputs": [
        {
          "output_type": "stream",
          "name": "stdout",
          "text": [
            "Epoch 1/50\n",
            "3/3 [==============================] - 1s 7ms/step - loss: 0.6976 - accuracy: 0.6476\n",
            "Epoch 2/50\n",
            "3/3 [==============================] - 0s 7ms/step - loss: 0.1486 - accuracy: 0.9619\n",
            "Epoch 3/50\n",
            "3/3 [==============================] - 0s 7ms/step - loss: 0.1083 - accuracy: 0.9714\n",
            "Epoch 4/50\n",
            "3/3 [==============================] - 0s 6ms/step - loss: 0.0538 - accuracy: 1.0000\n",
            "Epoch 5/50\n",
            "3/3 [==============================] - 0s 7ms/step - loss: 0.0871 - accuracy: 0.9714\n",
            "Epoch 6/50\n",
            "3/3 [==============================] - 0s 7ms/step - loss: 0.1058 - accuracy: 0.9714\n",
            "Epoch 7/50\n",
            "3/3 [==============================] - 0s 6ms/step - loss: 0.0471 - accuracy: 0.9810\n",
            "Epoch 8/50\n",
            "3/3 [==============================] - 0s 7ms/step - loss: 0.0609 - accuracy: 0.9810\n",
            "Epoch 9/50\n",
            "3/3 [==============================] - 0s 6ms/step - loss: 0.0306 - accuracy: 1.0000\n",
            "Epoch 10/50\n",
            "3/3 [==============================] - 0s 5ms/step - loss: 0.0520 - accuracy: 0.9810\n",
            "Epoch 11/50\n",
            "3/3 [==============================] - 0s 6ms/step - loss: 0.0289 - accuracy: 1.0000\n",
            "Epoch 12/50\n",
            "3/3 [==============================] - 0s 5ms/step - loss: 0.0269 - accuracy: 1.0000\n",
            "Epoch 13/50\n",
            "3/3 [==============================] - 0s 6ms/step - loss: 0.0620 - accuracy: 0.9714\n",
            "Epoch 14/50\n",
            "3/3 [==============================] - 0s 6ms/step - loss: 0.0338 - accuracy: 1.0000\n",
            "Epoch 15/50\n",
            "3/3 [==============================] - 0s 6ms/step - loss: 0.0236 - accuracy: 1.0000\n",
            "Epoch 16/50\n",
            "3/3 [==============================] - 0s 8ms/step - loss: 0.0341 - accuracy: 0.9905\n",
            "Epoch 17/50\n",
            "3/3 [==============================] - 0s 7ms/step - loss: 0.0253 - accuracy: 0.9905\n",
            "Epoch 18/50\n",
            "3/3 [==============================] - 0s 7ms/step - loss: 0.0272 - accuracy: 0.9905\n",
            "Epoch 19/50\n",
            "3/3 [==============================] - 0s 6ms/step - loss: 0.0350 - accuracy: 0.9905\n",
            "Epoch 20/50\n",
            "3/3 [==============================] - 0s 6ms/step - loss: 0.0763 - accuracy: 0.9619\n",
            "Epoch 21/50\n",
            "3/3 [==============================] - 0s 4ms/step - loss: 0.0266 - accuracy: 0.9905\n",
            "Epoch 22/50\n",
            "3/3 [==============================] - 0s 5ms/step - loss: 0.0385 - accuracy: 0.9810\n",
            "Epoch 23/50\n",
            "3/3 [==============================] - 0s 6ms/step - loss: 0.0171 - accuracy: 1.0000\n",
            "Epoch 24/50\n",
            "3/3 [==============================] - 0s 5ms/step - loss: 0.0180 - accuracy: 0.9905\n",
            "Epoch 25/50\n",
            "3/3 [==============================] - 0s 5ms/step - loss: 0.0116 - accuracy: 1.0000\n",
            "Epoch 26/50\n",
            "3/3 [==============================] - 0s 7ms/step - loss: 0.0261 - accuracy: 0.9905\n",
            "Epoch 27/50\n",
            "3/3 [==============================] - 0s 6ms/step - loss: 0.0298 - accuracy: 0.9905\n",
            "Epoch 28/50\n",
            "3/3 [==============================] - 0s 6ms/step - loss: 0.0947 - accuracy: 0.9524\n",
            "Epoch 29/50\n",
            "3/3 [==============================] - 0s 6ms/step - loss: 0.0142 - accuracy: 1.0000\n",
            "Epoch 30/50\n",
            "3/3 [==============================] - 0s 7ms/step - loss: 0.0376 - accuracy: 0.9810\n",
            "Epoch 31/50\n",
            "3/3 [==============================] - 0s 6ms/step - loss: 0.0811 - accuracy: 0.9714\n",
            "Epoch 32/50\n",
            "3/3 [==============================] - 0s 6ms/step - loss: 0.0645 - accuracy: 0.9714\n",
            "Epoch 33/50\n",
            "3/3 [==============================] - 0s 6ms/step - loss: 0.0895 - accuracy: 0.9524\n",
            "Epoch 34/50\n",
            "3/3 [==============================] - 0s 5ms/step - loss: 0.0480 - accuracy: 0.9810\n",
            "Epoch 35/50\n",
            "3/3 [==============================] - 0s 5ms/step - loss: 0.0332 - accuracy: 1.0000\n",
            "Epoch 36/50\n",
            "3/3 [==============================] - 0s 6ms/step - loss: 0.0388 - accuracy: 0.9905\n",
            "Epoch 37/50\n",
            "3/3 [==============================] - 0s 6ms/step - loss: 0.0263 - accuracy: 0.9905\n",
            "Epoch 38/50\n",
            "3/3 [==============================] - 0s 11ms/step - loss: 0.0263 - accuracy: 1.0000\n",
            "Epoch 39/50\n",
            "3/3 [==============================] - 0s 5ms/step - loss: 0.0290 - accuracy: 0.9905\n",
            "Epoch 40/50\n",
            "3/3 [==============================] - 0s 6ms/step - loss: 0.0214 - accuracy: 0.9905\n",
            "Epoch 41/50\n",
            "3/3 [==============================] - 0s 6ms/step - loss: 0.0177 - accuracy: 1.0000\n",
            "Epoch 42/50\n",
            "3/3 [==============================] - 0s 6ms/step - loss: 0.0236 - accuracy: 0.9905\n",
            "Epoch 43/50\n",
            "3/3 [==============================] - 0s 6ms/step - loss: 0.0517 - accuracy: 0.9810\n",
            "Epoch 44/50\n",
            "3/3 [==============================] - 0s 6ms/step - loss: 0.0329 - accuracy: 0.9905\n",
            "Epoch 45/50\n",
            "3/3 [==============================] - 0s 6ms/step - loss: 0.0150 - accuracy: 1.0000\n",
            "Epoch 46/50\n",
            "3/3 [==============================] - 0s 6ms/step - loss: 0.0337 - accuracy: 0.9810\n",
            "Epoch 47/50\n",
            "3/3 [==============================] - 0s 7ms/step - loss: 0.0398 - accuracy: 0.9810\n",
            "Epoch 48/50\n",
            "3/3 [==============================] - 0s 6ms/step - loss: 0.0880 - accuracy: 0.9429\n",
            "Epoch 49/50\n",
            "3/3 [==============================] - 0s 5ms/step - loss: 0.0284 - accuracy: 0.9905\n",
            "Epoch 50/50\n",
            "3/3 [==============================] - 0s 5ms/step - loss: 0.0152 - accuracy: 1.0000\n"
          ]
        },
        {
          "output_type": "execute_result",
          "data": {
            "text/plain": [
              "<keras.callbacks.History at 0x7f137a096710>"
            ]
          },
          "metadata": {},
          "execution_count": 5
        }
      ]
    },
    {
      "cell_type": "code",
      "source": [
        "loss,accuracy=model3.evaluate(X_test,test_labels)"
      ],
      "metadata": {
        "colab": {
          "base_uri": "https://localhost:8080/"
        },
        "id": "03saCR5KIBX4",
        "outputId": "b284f561-0e18-484a-9381-4845c7016fa1"
      },
      "execution_count": 6,
      "outputs": [
        {
          "output_type": "stream",
          "name": "stdout",
          "text": [
            "2/2 [==============================] - 0s 22ms/step - loss: 0.4194 - accuracy: 0.9556\n"
          ]
        }
      ]
    }
  ]
}